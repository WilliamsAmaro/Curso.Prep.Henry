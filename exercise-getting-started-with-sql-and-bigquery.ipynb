{
 "cells": [
  {
   "cell_type": "markdown",
   "id": "b3ccb37d",
   "metadata": {
    "papermill": {
     "duration": 0.008809,
     "end_time": "2023-07-30T22:58:55.672461",
     "exception": false,
     "start_time": "2023-07-30T22:58:55.663652",
     "status": "completed"
    },
    "tags": []
   },
   "source": [
    "**This notebook is an exercise in the [SQL](https://www.kaggle.com/learn/intro-to-sql) course.  You can reference the tutorial at [this link](https://www.kaggle.com/dansbecker/getting-started-with-sql-and-bigquery).**\n",
    "\n",
    "---\n"
   ]
  },
  {
   "cell_type": "markdown",
   "id": "9dab0598",
   "metadata": {
    "papermill": {
     "duration": 0.00738,
     "end_time": "2023-07-30T22:58:55.687833",
     "exception": false,
     "start_time": "2023-07-30T22:58:55.680453",
     "status": "completed"
    },
    "tags": []
   },
   "source": [
    "# Introduction\n",
    "\n",
    "The first test of your new data exploration skills uses data describing crime in the city of Chicago.\n",
    "\n",
    "Before you get started, run the following cell. It sets up the automated feedback system to review your answers."
   ]
  },
  {
   "cell_type": "code",
   "execution_count": 1,
   "id": "31244f60",
   "metadata": {
    "execution": {
     "iopub.execute_input": "2023-07-30T22:58:55.705581Z",
     "iopub.status.busy": "2023-07-30T22:58:55.704485Z",
     "iopub.status.idle": "2023-07-30T22:58:56.798942Z",
     "shell.execute_reply": "2023-07-30T22:58:56.797351Z"
    },
    "papermill": {
     "duration": 1.106532,
     "end_time": "2023-07-30T22:58:56.801927",
     "exception": false,
     "start_time": "2023-07-30T22:58:55.695395",
     "status": "completed"
    },
    "tags": []
   },
   "outputs": [
    {
     "name": "stdout",
     "output_type": "stream",
     "text": [
      "Using Kaggle's public dataset BigQuery integration.\n",
      "Setup Complete\n"
     ]
    }
   ],
   "source": [
    "# Set up feedack system\n",
    "from learntools.core import binder\n",
    "binder.bind(globals())\n",
    "from learntools.sql.ex1 import *\n",
    "print(\"Setup Complete\")"
   ]
  },
  {
   "cell_type": "markdown",
   "id": "d520f09c",
   "metadata": {
    "papermill": {
     "duration": 0.007727,
     "end_time": "2023-07-30T22:58:56.817864",
     "exception": false,
     "start_time": "2023-07-30T22:58:56.810137",
     "status": "completed"
    },
    "tags": []
   },
   "source": [
    "Use the next code cell to fetch the dataset."
   ]
  },
  {
   "cell_type": "code",
   "execution_count": 2,
   "id": "9e57729d",
   "metadata": {
    "execution": {
     "iopub.execute_input": "2023-07-30T22:58:56.836285Z",
     "iopub.status.busy": "2023-07-30T22:58:56.835503Z",
     "iopub.status.idle": "2023-07-30T22:58:57.171159Z",
     "shell.execute_reply": "2023-07-30T22:58:57.169832Z"
    },
    "papermill": {
     "duration": 0.348582,
     "end_time": "2023-07-30T22:58:57.174386",
     "exception": false,
     "start_time": "2023-07-30T22:58:56.825804",
     "status": "completed"
    },
    "tags": []
   },
   "outputs": [
    {
     "name": "stdout",
     "output_type": "stream",
     "text": [
      "Using Kaggle's public dataset BigQuery integration.\n"
     ]
    }
   ],
   "source": [
    "from google.cloud import bigquery\n",
    "\n",
    "# Create a \"Client\" object\n",
    "client = bigquery.Client()\n",
    "\n",
    "# Construct a reference to the \"chicago_crime\" dataset\n",
    "dataset_ref = client.dataset(\"chicago_crime\", project=\"bigquery-public-data\")\n",
    "\n",
    "# API request - fetch the dataset\n",
    "dataset = client.get_dataset(dataset_ref)"
   ]
  },
  {
   "cell_type": "markdown",
   "id": "7fe278a1",
   "metadata": {
    "papermill": {
     "duration": 0.007555,
     "end_time": "2023-07-30T22:58:57.189993",
     "exception": false,
     "start_time": "2023-07-30T22:58:57.182438",
     "status": "completed"
    },
    "tags": []
   },
   "source": [
    "# Exercises\n",
    "\n",
    "### 1) Count tables in the dataset\n",
    "\n",
    "How many tables are in the Chicago Crime dataset?"
   ]
  },
  {
   "cell_type": "code",
   "execution_count": 3,
   "id": "72da2d7c",
   "metadata": {
    "execution": {
     "iopub.execute_input": "2023-07-30T22:58:57.207464Z",
     "iopub.status.busy": "2023-07-30T22:58:57.207051Z",
     "iopub.status.idle": "2023-07-30T22:58:57.482571Z",
     "shell.execute_reply": "2023-07-30T22:58:57.480950Z"
    },
    "papermill": {
     "duration": 0.287416,
     "end_time": "2023-07-30T22:58:57.485319",
     "exception": false,
     "start_time": "2023-07-30T22:58:57.197903",
     "status": "completed"
    },
    "tags": []
   },
   "outputs": [
    {
     "name": "stdout",
     "output_type": "stream",
     "text": [
      "crime\n"
     ]
    }
   ],
   "source": [
    "# Write the code you need here to figure out the answer\n",
    "tables = list(client.list_tables(dataset))\n",
    "for table in tables:  \n",
    "    print(table.table_id)"
   ]
  },
  {
   "cell_type": "code",
   "execution_count": 4,
   "id": "79557a16",
   "metadata": {
    "execution": {
     "iopub.execute_input": "2023-07-30T22:58:57.504612Z",
     "iopub.status.busy": "2023-07-30T22:58:57.504211Z",
     "iopub.status.idle": "2023-07-30T22:58:57.514231Z",
     "shell.execute_reply": "2023-07-30T22:58:57.512804Z"
    },
    "papermill": {
     "duration": 0.023762,
     "end_time": "2023-07-30T22:58:57.517030",
     "exception": false,
     "start_time": "2023-07-30T22:58:57.493268",
     "status": "completed"
    },
    "tags": []
   },
   "outputs": [
    {
     "data": {
      "application/javascript": [
       "parent.postMessage({\"jupyterEvent\": \"custom.exercise_interaction\", \"data\": {\"outcomeType\": 1, \"valueTowardsCompletion\": 0.3333333333333333, \"interactionType\": 1, \"questionType\": 1, \"questionId\": \"1_CountTables\", \"learnToolsVersion\": \"0.3.4\", \"failureMessage\": \"\", \"exceptionClass\": \"\", \"trace\": \"\"}}, \"*\")"
      ],
      "text/plain": [
       "<IPython.core.display.Javascript object>"
      ]
     },
     "metadata": {},
     "output_type": "display_data"
    },
    {
     "data": {
      "text/markdown": [
       "<span style=\"color:#33cc33\">Correct</span>"
      ],
      "text/plain": [
       "Correct"
      ]
     },
     "metadata": {},
     "output_type": "display_data"
    }
   ],
   "source": [
    "num_tables = 1 # Store the answer as num_tables and then run this cell\n",
    "\n",
    "# Check your answer\n",
    "q_1.check()"
   ]
  },
  {
   "cell_type": "markdown",
   "id": "89bac325",
   "metadata": {
    "papermill": {
     "duration": 0.008048,
     "end_time": "2023-07-30T22:58:57.533499",
     "exception": false,
     "start_time": "2023-07-30T22:58:57.525451",
     "status": "completed"
    },
    "tags": []
   },
   "source": [
    "For a hint or the solution, uncomment the appropriate line below."
   ]
  },
  {
   "cell_type": "code",
   "execution_count": 5,
   "id": "790be412",
   "metadata": {
    "execution": {
     "iopub.execute_input": "2023-07-30T22:58:57.552259Z",
     "iopub.status.busy": "2023-07-30T22:58:57.551823Z",
     "iopub.status.idle": "2023-07-30T22:58:57.566578Z",
     "shell.execute_reply": "2023-07-30T22:58:57.565286Z"
    },
    "papermill": {
     "duration": 0.026964,
     "end_time": "2023-07-30T22:58:57.568916",
     "exception": false,
     "start_time": "2023-07-30T22:58:57.541952",
     "status": "completed"
    },
    "tags": []
   },
   "outputs": [
    {
     "data": {
      "application/javascript": [
       "parent.postMessage({\"jupyterEvent\": \"custom.exercise_interaction\", \"data\": {\"interactionType\": 2, \"questionType\": 1, \"questionId\": \"1_CountTables\", \"learnToolsVersion\": \"0.3.4\", \"valueTowardsCompletion\": 0.0, \"failureMessage\": \"\", \"exceptionClass\": \"\", \"trace\": \"\", \"outcomeType\": 4}}, \"*\")"
      ],
      "text/plain": [
       "<IPython.core.display.Javascript object>"
      ]
     },
     "metadata": {},
     "output_type": "display_data"
    },
    {
     "data": {
      "text/markdown": [
       "<span style=\"color:#3366cc\">Hint:</span> Use the `list_tables()` method to get a list of the tables in the dataset."
      ],
      "text/plain": [
       "Hint: Use the `list_tables()` method to get a list of the tables in the dataset."
      ]
     },
     "metadata": {},
     "output_type": "display_data"
    },
    {
     "data": {
      "application/javascript": [
       "parent.postMessage({\"jupyterEvent\": \"custom.exercise_interaction\", \"data\": {\"interactionType\": 3, \"questionType\": 1, \"questionId\": \"1_CountTables\", \"learnToolsVersion\": \"0.3.4\", \"valueTowardsCompletion\": 0.0, \"failureMessage\": \"\", \"exceptionClass\": \"\", \"trace\": \"\", \"outcomeType\": 4}}, \"*\")"
      ],
      "text/plain": [
       "<IPython.core.display.Javascript object>"
      ]
     },
     "metadata": {},
     "output_type": "display_data"
    },
    {
     "data": {
      "text/markdown": [
       "<span style=\"color:#33cc99\">Solution:</span> \n",
       "```python\n",
       "\n",
       "# List all the tables in the \"chicago_crime\" dataset\n",
       "tables = list(client.list_tables(dataset))\n",
       "\n",
       "# Print number of tables in the dataset\n",
       "print(len(tables))\n",
       "\n",
       "num_tables = 1\n",
       "\n",
       "```"
      ],
      "text/plain": [
       "Solution: \n",
       "```python\n",
       "\n",
       "# List all the tables in the \"chicago_crime\" dataset\n",
       "tables = list(client.list_tables(dataset))\n",
       "\n",
       "# Print number of tables in the dataset\n",
       "print(len(tables))\n",
       "\n",
       "num_tables = 1\n",
       "\n",
       "```"
      ]
     },
     "metadata": {},
     "output_type": "display_data"
    }
   ],
   "source": [
    "q_1.hint()\n",
    "q_1.solution()"
   ]
  },
  {
   "cell_type": "markdown",
   "id": "a188baaf",
   "metadata": {
    "papermill": {
     "duration": 0.008861,
     "end_time": "2023-07-30T22:58:57.587233",
     "exception": false,
     "start_time": "2023-07-30T22:58:57.578372",
     "status": "completed"
    },
    "tags": []
   },
   "source": [
    "### 2) Explore the table schema\n",
    "\n",
    "How many columns in the `crime` table have `TIMESTAMP` data?"
   ]
  },
  {
   "cell_type": "code",
   "execution_count": 6,
   "id": "35ba2a51",
   "metadata": {
    "execution": {
     "iopub.execute_input": "2023-07-30T22:58:57.607590Z",
     "iopub.status.busy": "2023-07-30T22:58:57.607126Z",
     "iopub.status.idle": "2023-07-30T22:58:57.982188Z",
     "shell.execute_reply": "2023-07-30T22:58:57.980843Z"
    },
    "papermill": {
     "duration": 0.38889,
     "end_time": "2023-07-30T22:58:57.985328",
     "exception": false,
     "start_time": "2023-07-30T22:58:57.596438",
     "status": "completed"
    },
    "tags": []
   },
   "outputs": [
    {
     "name": "stdout",
     "output_type": "stream",
     "text": [
      "[SchemaField('unique_key', 'INTEGER', 'REQUIRED', None, (), None), SchemaField('case_number', 'STRING', 'NULLABLE', None, (), None), SchemaField('date', 'TIMESTAMP', 'NULLABLE', None, (), None), SchemaField('block', 'STRING', 'NULLABLE', None, (), None), SchemaField('iucr', 'STRING', 'NULLABLE', None, (), None), SchemaField('primary_type', 'STRING', 'NULLABLE', None, (), None), SchemaField('description', 'STRING', 'NULLABLE', None, (), None), SchemaField('location_description', 'STRING', 'NULLABLE', None, (), None), SchemaField('arrest', 'BOOLEAN', 'NULLABLE', None, (), None), SchemaField('domestic', 'BOOLEAN', 'NULLABLE', None, (), None), SchemaField('beat', 'INTEGER', 'NULLABLE', None, (), None), SchemaField('district', 'INTEGER', 'NULLABLE', None, (), None), SchemaField('ward', 'INTEGER', 'NULLABLE', None, (), None), SchemaField('community_area', 'INTEGER', 'NULLABLE', None, (), None), SchemaField('fbi_code', 'STRING', 'NULLABLE', None, (), None), SchemaField('x_coordinate', 'FLOAT', 'NULLABLE', None, (), None), SchemaField('y_coordinate', 'FLOAT', 'NULLABLE', None, (), None), SchemaField('year', 'INTEGER', 'NULLABLE', None, (), None), SchemaField('updated_on', 'TIMESTAMP', 'NULLABLE', None, (), None), SchemaField('latitude', 'FLOAT', 'NULLABLE', None, (), None), SchemaField('longitude', 'FLOAT', 'NULLABLE', None, (), None), SchemaField('location', 'STRING', 'NULLABLE', None, (), None)]\n"
     ]
    }
   ],
   "source": [
    "# Construct a reference to the \"crime\" table\n",
    "table_ref = dataset_ref.table(\"crime\")\n",
    "\n",
    "# API request - fetch the table\n",
    "table = client.get_table(table_ref)\n",
    "\n",
    "# Print information on all the columns in the \"crime\" table in the \"chicago_crime\" dataset\n",
    "print(table.schema)"
   ]
  },
  {
   "cell_type": "code",
   "execution_count": 7,
   "id": "e0b640fb",
   "metadata": {
    "execution": {
     "iopub.execute_input": "2023-07-30T22:58:58.006968Z",
     "iopub.status.busy": "2023-07-30T22:58:58.006471Z",
     "iopub.status.idle": "2023-07-30T22:58:58.015513Z",
     "shell.execute_reply": "2023-07-30T22:58:58.014431Z"
    },
    "papermill": {
     "duration": 0.022677,
     "end_time": "2023-07-30T22:58:58.017762",
     "exception": false,
     "start_time": "2023-07-30T22:58:57.995085",
     "status": "completed"
    },
    "tags": []
   },
   "outputs": [
    {
     "data": {
      "application/javascript": [
       "parent.postMessage({\"jupyterEvent\": \"custom.exercise_interaction\", \"data\": {\"outcomeType\": 1, \"valueTowardsCompletion\": 0.3333333333333333, \"interactionType\": 1, \"questionType\": 1, \"questionId\": \"2_CountTimestampFields\", \"learnToolsVersion\": \"0.3.4\", \"failureMessage\": \"\", \"exceptionClass\": \"\", \"trace\": \"\"}}, \"*\")"
      ],
      "text/plain": [
       "<IPython.core.display.Javascript object>"
      ]
     },
     "metadata": {},
     "output_type": "display_data"
    },
    {
     "data": {
      "text/markdown": [
       "<span style=\"color:#33cc33\">Correct</span>"
      ],
      "text/plain": [
       "Correct"
      ]
     },
     "metadata": {},
     "output_type": "display_data"
    }
   ],
   "source": [
    "num_timestamp_fields = 2 # Put your answer here\n",
    "\n",
    "# Check your answer\n",
    "q_2.check()"
   ]
  },
  {
   "cell_type": "markdown",
   "id": "0c51efb5",
   "metadata": {
    "papermill": {
     "duration": 0.009527,
     "end_time": "2023-07-30T22:58:58.036882",
     "exception": false,
     "start_time": "2023-07-30T22:58:58.027355",
     "status": "completed"
    },
    "tags": []
   },
   "source": [
    "For a hint or the solution, uncomment the appropriate line below."
   ]
  },
  {
   "cell_type": "code",
   "execution_count": 8,
   "id": "a904f103",
   "metadata": {
    "execution": {
     "iopub.execute_input": "2023-07-30T22:58:58.057912Z",
     "iopub.status.busy": "2023-07-30T22:58:58.057518Z",
     "iopub.status.idle": "2023-07-30T22:58:58.068864Z",
     "shell.execute_reply": "2023-07-30T22:58:58.067768Z"
    },
    "papermill": {
     "duration": 0.024535,
     "end_time": "2023-07-30T22:58:58.070982",
     "exception": false,
     "start_time": "2023-07-30T22:58:58.046447",
     "status": "completed"
    },
    "tags": []
   },
   "outputs": [
    {
     "data": {
      "application/javascript": [
       "parent.postMessage({\"jupyterEvent\": \"custom.exercise_interaction\", \"data\": {\"interactionType\": 2, \"questionType\": 1, \"questionId\": \"2_CountTimestampFields\", \"learnToolsVersion\": \"0.3.4\", \"valueTowardsCompletion\": 0.0, \"failureMessage\": \"\", \"exceptionClass\": \"\", \"trace\": \"\", \"outcomeType\": 4}}, \"*\")"
      ],
      "text/plain": [
       "<IPython.core.display.Javascript object>"
      ]
     },
     "metadata": {},
     "output_type": "display_data"
    },
    {
     "data": {
      "text/markdown": [
       "<span style=\"color:#3366cc\">Hint:</span> Begin by fetching the `crime` table. Then take a look at the table schema, and check the field type of each column.  How many times does `'TIMESTAMP'` appear?"
      ],
      "text/plain": [
       "Hint: Begin by fetching the `crime` table. Then take a look at the table schema, and check the field type of each column.  How many times does `'TIMESTAMP'` appear?"
      ]
     },
     "metadata": {},
     "output_type": "display_data"
    },
    {
     "data": {
      "application/javascript": [
       "parent.postMessage({\"jupyterEvent\": \"custom.exercise_interaction\", \"data\": {\"interactionType\": 3, \"questionType\": 1, \"questionId\": \"2_CountTimestampFields\", \"learnToolsVersion\": \"0.3.4\", \"valueTowardsCompletion\": 0.0, \"failureMessage\": \"\", \"exceptionClass\": \"\", \"trace\": \"\", \"outcomeType\": 4}}, \"*\")"
      ],
      "text/plain": [
       "<IPython.core.display.Javascript object>"
      ]
     },
     "metadata": {},
     "output_type": "display_data"
    },
    {
     "data": {
      "text/markdown": [
       "<span style=\"color:#33cc99\">Solution:</span> \n",
       "```python\n",
       "\n",
       "# Construct a reference to the \"crime\" table\n",
       "table_ref = dataset_ref.table(\"crime\")\n",
       "\n",
       "# API request - fetch the table\n",
       "table = client.get_table(table_ref)\n",
       "\n",
       "# Print information on all the columns in the \"crime\" table in the \"chicago_crime\" dataset\n",
       "print(table.schema)\n",
       "\n",
       "num_timestamp_fields = 2\n",
       "\n",
       "```"
      ],
      "text/plain": [
       "Solution: \n",
       "```python\n",
       "\n",
       "# Construct a reference to the \"crime\" table\n",
       "table_ref = dataset_ref.table(\"crime\")\n",
       "\n",
       "# API request - fetch the table\n",
       "table = client.get_table(table_ref)\n",
       "\n",
       "# Print information on all the columns in the \"crime\" table in the \"chicago_crime\" dataset\n",
       "print(table.schema)\n",
       "\n",
       "num_timestamp_fields = 2\n",
       "\n",
       "```"
      ]
     },
     "metadata": {},
     "output_type": "display_data"
    }
   ],
   "source": [
    "q_2.hint()\n",
    "q_2.solution()"
   ]
  },
  {
   "cell_type": "markdown",
   "id": "a490e640",
   "metadata": {
    "papermill": {
     "duration": 0.009941,
     "end_time": "2023-07-30T22:58:58.091365",
     "exception": false,
     "start_time": "2023-07-30T22:58:58.081424",
     "status": "completed"
    },
    "tags": []
   },
   "source": [
    "### 3) Create a crime map\n",
    "\n",
    "If you wanted to create a map with a dot at the location of each crime, what are the names of the two fields you likely need to pull out of the `crime` table to plot the crimes on a map?"
   ]
  },
  {
   "cell_type": "code",
   "execution_count": 9,
   "id": "f499474d",
   "metadata": {
    "execution": {
     "iopub.execute_input": "2023-07-30T22:58:58.113520Z",
     "iopub.status.busy": "2023-07-30T22:58:58.113120Z",
     "iopub.status.idle": "2023-07-30T22:58:58.117925Z",
     "shell.execute_reply": "2023-07-30T22:58:58.116880Z"
    },
    "papermill": {
     "duration": 0.019195,
     "end_time": "2023-07-30T22:58:58.120715",
     "exception": false,
     "start_time": "2023-07-30T22:58:58.101520",
     "status": "completed"
    },
    "tags": []
   },
   "outputs": [],
   "source": [
    "# Write the code here to explore the data so you can find the answer\n",
    "fields_for_plotting = ['latitude', 'longitude']"
   ]
  },
  {
   "cell_type": "code",
   "execution_count": 10,
   "id": "2ca043bf",
   "metadata": {
    "execution": {
     "iopub.execute_input": "2023-07-30T22:58:58.143214Z",
     "iopub.status.busy": "2023-07-30T22:58:58.142435Z",
     "iopub.status.idle": "2023-07-30T22:58:58.152366Z",
     "shell.execute_reply": "2023-07-30T22:58:58.151114Z"
    },
    "papermill": {
     "duration": 0.023847,
     "end_time": "2023-07-30T22:58:58.154764",
     "exception": false,
     "start_time": "2023-07-30T22:58:58.130917",
     "status": "completed"
    },
    "tags": []
   },
   "outputs": [
    {
     "data": {
      "application/javascript": [
       "parent.postMessage({\"jupyterEvent\": \"custom.exercise_interaction\", \"data\": {\"outcomeType\": 1, \"valueTowardsCompletion\": 0.3333333333333333, \"interactionType\": 1, \"questionType\": 2, \"questionId\": \"3_IdentifyFieldsForPlotting\", \"learnToolsVersion\": \"0.3.4\", \"failureMessage\": \"\", \"exceptionClass\": \"\", \"trace\": \"\"}}, \"*\")"
      ],
      "text/plain": [
       "<IPython.core.display.Javascript object>"
      ]
     },
     "metadata": {},
     "output_type": "display_data"
    },
    {
     "data": {
      "text/markdown": [
       "<span style=\"color:#33cc33\">Correct</span>"
      ],
      "text/plain": [
       "Correct"
      ]
     },
     "metadata": {},
     "output_type": "display_data"
    }
   ],
   "source": [
    "fields_for_plotting = ['latitude', 'longitude'] # Put your answers here\n",
    "\n",
    "# Check your answer\n",
    "q_3.check()"
   ]
  },
  {
   "cell_type": "markdown",
   "id": "1c945e32",
   "metadata": {
    "papermill": {
     "duration": 0.01015,
     "end_time": "2023-07-30T22:58:58.175134",
     "exception": false,
     "start_time": "2023-07-30T22:58:58.164984",
     "status": "completed"
    },
    "tags": []
   },
   "source": [
    "For a hint or the solution, uncomment the appropriate line below."
   ]
  },
  {
   "cell_type": "code",
   "execution_count": 11,
   "id": "7c02b192",
   "metadata": {
    "execution": {
     "iopub.execute_input": "2023-07-30T22:58:58.197671Z",
     "iopub.status.busy": "2023-07-30T22:58:58.197263Z",
     "iopub.status.idle": "2023-07-30T22:58:58.211349Z",
     "shell.execute_reply": "2023-07-30T22:58:58.210152Z"
    },
    "papermill": {
     "duration": 0.028058,
     "end_time": "2023-07-30T22:58:58.213533",
     "exception": false,
     "start_time": "2023-07-30T22:58:58.185475",
     "status": "completed"
    },
    "tags": []
   },
   "outputs": [
    {
     "data": {
      "application/javascript": [
       "parent.postMessage({\"jupyterEvent\": \"custom.exercise_interaction\", \"data\": {\"interactionType\": 2, \"questionType\": 2, \"questionId\": \"3_IdentifyFieldsForPlotting\", \"learnToolsVersion\": \"0.3.4\", \"valueTowardsCompletion\": 0.0, \"failureMessage\": \"\", \"exceptionClass\": \"\", \"trace\": \"\", \"outcomeType\": 4}}, \"*\")"
      ],
      "text/plain": [
       "<IPython.core.display.Javascript object>"
      ]
     },
     "metadata": {},
     "output_type": "display_data"
    },
    {
     "data": {
      "text/markdown": [
       "<span style=\"color:#3366cc\">Hint:</span> Look at the table schema.  There are a couple options, but two of the fields are things commonly used to plot on maps. Both are `'FLOAT'` types. Use quotes around the field names in your answer."
      ],
      "text/plain": [
       "Hint: Look at the table schema.  There are a couple options, but two of the fields are things commonly used to plot on maps. Both are `'FLOAT'` types. Use quotes around the field names in your answer."
      ]
     },
     "metadata": {},
     "output_type": "display_data"
    },
    {
     "data": {
      "application/javascript": [
       "parent.postMessage({\"jupyterEvent\": \"custom.exercise_interaction\", \"data\": {\"interactionType\": 3, \"questionType\": 2, \"questionId\": \"3_IdentifyFieldsForPlotting\", \"learnToolsVersion\": \"0.3.4\", \"valueTowardsCompletion\": 0.0, \"failureMessage\": \"\", \"exceptionClass\": \"\", \"trace\": \"\", \"outcomeType\": 4}}, \"*\")"
      ],
      "text/plain": [
       "<IPython.core.display.Javascript object>"
      ]
     },
     "metadata": {},
     "output_type": "display_data"
    },
    {
     "data": {
      "text/markdown": [
       "<span style=\"color:#33cc99\">Solution:</span> \n",
       "```python\n",
       "fields_for_plotting = ['latitude', 'longitude']\n",
       "```"
      ],
      "text/plain": [
       "Solution: \n",
       "```python\n",
       "fields_for_plotting = ['latitude', 'longitude']\n",
       "```"
      ]
     },
     "metadata": {},
     "output_type": "display_data"
    }
   ],
   "source": [
    "q_3.hint()\n",
    "q_3.solution()"
   ]
  },
  {
   "cell_type": "markdown",
   "id": "ed5be01b",
   "metadata": {
    "papermill": {
     "duration": 0.012122,
     "end_time": "2023-07-30T22:58:58.236615",
     "exception": false,
     "start_time": "2023-07-30T22:58:58.224493",
     "status": "completed"
    },
    "tags": []
   },
   "source": [
    "Thinking about the question above, there are a few columns that appear to have geographic data. Look at a few values (with the `list_rows()` command) to see if you can determine their relationship.  Two columns will still be hard to interpret. But it should be obvious how the `location` column relates to `latitude` and `longitude`."
   ]
  },
  {
   "cell_type": "code",
   "execution_count": 12,
   "id": "d3bd1597",
   "metadata": {
    "execution": {
     "iopub.execute_input": "2023-07-30T22:58:58.260634Z",
     "iopub.status.busy": "2023-07-30T22:58:58.260156Z",
     "iopub.status.idle": "2023-07-30T22:58:58.637595Z",
     "shell.execute_reply": "2023-07-30T22:58:58.635849Z"
    },
    "papermill": {
     "duration": 0.392896,
     "end_time": "2023-07-30T22:58:58.640332",
     "exception": false,
     "start_time": "2023-07-30T22:58:58.247436",
     "status": "completed"
    },
    "tags": []
   },
   "outputs": [
    {
     "name": "stdout",
     "output_type": "stream",
     "text": [
      "Row((21081, 'HW448778', datetime.datetime(2013, 9, 12, 2, 59, tzinfo=datetime.timezone.utc), '001XX W 104TH PL', '0110', 'HOMICIDE', 'FIRST DEGREE MURDER', 'STREET', True, False, 512, 5, 34, 49, '01A', 1177286.0, 1835665.0, 2013, datetime.datetime(2022, 9, 18, 4, 45, 51, tzinfo=datetime.timezone.utc), 41.704393792, -87.626417643, '(41.704393792, -87.626417643)'), {'unique_key': 0, 'case_number': 1, 'date': 2, 'block': 3, 'iucr': 4, 'primary_type': 5, 'description': 6, 'location_description': 7, 'arrest': 8, 'domestic': 9, 'beat': 10, 'district': 11, 'ward': 12, 'community_area': 13, 'fbi_code': 14, 'x_coordinate': 15, 'y_coordinate': 16, 'year': 17, 'updated_on': 18, 'latitude': 19, 'longitude': 20, 'location': 21})\n",
      "Row((21682, 'HX539782', datetime.datetime(2014, 12, 12, 4, 57, tzinfo=datetime.timezone.utc), '104XX S STATE ST', '0110', 'HOMICIDE', 'FIRST DEGREE MURDER', 'STREET', False, False, 512, 5, 34, 49, '01A', 1178101.0, 1835578.0, 2014, datetime.datetime(2022, 8, 31, 4, 51, 30, tzinfo=datetime.timezone.utc), 41.704136655, -87.623435884, '(41.704136655, -87.623435884)'), {'unique_key': 0, 'case_number': 1, 'date': 2, 'block': 3, 'iucr': 4, 'primary_type': 5, 'description': 6, 'location_description': 7, 'arrest': 8, 'domestic': 9, 'beat': 10, 'district': 11, 'ward': 12, 'community_area': 13, 'fbi_code': 14, 'x_coordinate': 15, 'y_coordinate': 16, 'year': 17, 'updated_on': 18, 'latitude': 19, 'longitude': 20, 'location': 21})\n",
      "Row((2950376, 'HJ637148', datetime.datetime(2003, 9, 18, 5, 10, tzinfo=datetime.timezone.utc), '105XX S MICHIGAN AVE', '0263', 'CRIM SEXUAL ASSAULT', 'AGGRAVATED: KNIFE/CUT INSTR', 'ALLEY', False, False, 512, 5, 9, 49, '02', 1178841.0, 1834965.0, 2003, datetime.datetime(2018, 2, 28, 3, 56, 25, tzinfo=datetime.timezone.utc), 41.702437727, -87.620744722, '(41.702437727, -87.620744722)'), {'unique_key': 0, 'case_number': 1, 'date': 2, 'block': 3, 'iucr': 4, 'primary_type': 5, 'description': 6, 'location_description': 7, 'arrest': 8, 'domestic': 9, 'beat': 10, 'district': 11, 'ward': 12, 'community_area': 13, 'fbi_code': 14, 'x_coordinate': 15, 'y_coordinate': 16, 'year': 17, 'updated_on': 18, 'latitude': 19, 'longitude': 20, 'location': 21})\n",
      "Row((4578820, 'HM165964', datetime.datetime(2006, 2, 4, 2, 30, tzinfo=datetime.timezone.utc), '001XX W 107TH ST', '0265', 'CRIM SEXUAL ASSAULT', 'AGGRAVATED: OTHER', 'RESIDENCE', True, False, 512, 5, 34, 49, '02', 1177377.0, 1834005.0, 2006, datetime.datetime(2018, 2, 10, 3, 50, 1, tzinfo=datetime.timezone.utc), 41.699836467, -87.626134333, '(41.699836467, -87.626134333)'), {'unique_key': 0, 'case_number': 1, 'date': 2, 'block': 3, 'iucr': 4, 'primary_type': 5, 'description': 6, 'location_description': 7, 'arrest': 8, 'domestic': 9, 'beat': 10, 'district': 11, 'ward': 12, 'community_area': 13, 'fbi_code': 14, 'x_coordinate': 15, 'y_coordinate': 16, 'year': 17, 'updated_on': 18, 'latitude': 19, 'longitude': 20, 'location': 21})\n",
      "Row((2670116, 'HJ285630', datetime.datetime(2003, 4, 4, 5, 54, tzinfo=datetime.timezone.utc), '009XX E 104TH ST', '0266', 'CRIM SEXUAL ASSAULT', 'PREDATORY', 'RESIDENCE', True, False, 512, 5, 9, 50, '02', 1184238.0, 1836191.0, 2003, datetime.datetime(2018, 2, 28, 3, 56, 25, tzinfo=datetime.timezone.utc), 41.705677782, -87.600944364, '(41.705677782, -87.600944364)'), {'unique_key': 0, 'case_number': 1, 'date': 2, 'block': 3, 'iucr': 4, 'primary_type': 5, 'description': 6, 'location_description': 7, 'arrest': 8, 'domestic': 9, 'beat': 10, 'district': 11, 'ward': 12, 'community_area': 13, 'fbi_code': 14, 'x_coordinate': 15, 'y_coordinate': 16, 'year': 17, 'updated_on': 18, 'latitude': 19, 'longitude': 20, 'location': 21})\n"
     ]
    }
   ],
   "source": [
    "# Scratch space for your code\n",
    "\n",
    "# List a few rows of data to inspect the columns related to geographic information\n",
    "rows = client.list_rows(table, max_results=5)  # Change max_results to see more rows if needed\n",
    "\n",
    "# Print the rows\n",
    "for row in rows:\n",
    "    print(row)"
   ]
  },
  {
   "cell_type": "code",
   "execution_count": 13,
   "id": "457cc12f",
   "metadata": {
    "execution": {
     "iopub.execute_input": "2023-07-30T22:58:58.665685Z",
     "iopub.status.busy": "2023-07-30T22:58:58.665239Z",
     "iopub.status.idle": "2023-07-30T22:58:59.179837Z",
     "shell.execute_reply": "2023-07-30T22:58:59.178650Z"
    },
    "papermill": {
     "duration": 0.53016,
     "end_time": "2023-07-30T22:58:59.182528",
     "exception": false,
     "start_time": "2023-07-30T22:58:58.652368",
     "status": "completed"
    },
    "tags": []
   },
   "outputs": [
    {
     "data": {
      "text/html": [
       "<div>\n",
       "<style scoped>\n",
       "    .dataframe tbody tr th:only-of-type {\n",
       "        vertical-align: middle;\n",
       "    }\n",
       "\n",
       "    .dataframe tbody tr th {\n",
       "        vertical-align: top;\n",
       "    }\n",
       "\n",
       "    .dataframe thead th {\n",
       "        text-align: right;\n",
       "    }\n",
       "</style>\n",
       "<table border=\"1\" class=\"dataframe\">\n",
       "  <thead>\n",
       "    <tr style=\"text-align: right;\">\n",
       "      <th></th>\n",
       "      <th>unique_key</th>\n",
       "      <th>case_number</th>\n",
       "      <th>date</th>\n",
       "      <th>block</th>\n",
       "      <th>iucr</th>\n",
       "      <th>primary_type</th>\n",
       "      <th>description</th>\n",
       "      <th>location_description</th>\n",
       "      <th>arrest</th>\n",
       "      <th>domestic</th>\n",
       "      <th>...</th>\n",
       "      <th>ward</th>\n",
       "      <th>community_area</th>\n",
       "      <th>fbi_code</th>\n",
       "      <th>x_coordinate</th>\n",
       "      <th>y_coordinate</th>\n",
       "      <th>year</th>\n",
       "      <th>updated_on</th>\n",
       "      <th>latitude</th>\n",
       "      <th>longitude</th>\n",
       "      <th>location</th>\n",
       "    </tr>\n",
       "  </thead>\n",
       "  <tbody>\n",
       "    <tr>\n",
       "      <th>0</th>\n",
       "      <td>21081</td>\n",
       "      <td>HW448778</td>\n",
       "      <td>2013-09-12 02:59:00+00:00</td>\n",
       "      <td>001XX W 104TH PL</td>\n",
       "      <td>0110</td>\n",
       "      <td>HOMICIDE</td>\n",
       "      <td>FIRST DEGREE MURDER</td>\n",
       "      <td>STREET</td>\n",
       "      <td>True</td>\n",
       "      <td>False</td>\n",
       "      <td>...</td>\n",
       "      <td>34</td>\n",
       "      <td>49</td>\n",
       "      <td>01A</td>\n",
       "      <td>1177286.0</td>\n",
       "      <td>1835665.0</td>\n",
       "      <td>2013</td>\n",
       "      <td>2022-09-18 04:45:51+00:00</td>\n",
       "      <td>41.704394</td>\n",
       "      <td>-87.626418</td>\n",
       "      <td>(41.704393792, -87.626417643)</td>\n",
       "    </tr>\n",
       "    <tr>\n",
       "      <th>1</th>\n",
       "      <td>21682</td>\n",
       "      <td>HX539782</td>\n",
       "      <td>2014-12-12 04:57:00+00:00</td>\n",
       "      <td>104XX S STATE ST</td>\n",
       "      <td>0110</td>\n",
       "      <td>HOMICIDE</td>\n",
       "      <td>FIRST DEGREE MURDER</td>\n",
       "      <td>STREET</td>\n",
       "      <td>False</td>\n",
       "      <td>False</td>\n",
       "      <td>...</td>\n",
       "      <td>34</td>\n",
       "      <td>49</td>\n",
       "      <td>01A</td>\n",
       "      <td>1178101.0</td>\n",
       "      <td>1835578.0</td>\n",
       "      <td>2014</td>\n",
       "      <td>2022-08-31 04:51:30+00:00</td>\n",
       "      <td>41.704137</td>\n",
       "      <td>-87.623436</td>\n",
       "      <td>(41.704136655, -87.623435884)</td>\n",
       "    </tr>\n",
       "    <tr>\n",
       "      <th>2</th>\n",
       "      <td>2950376</td>\n",
       "      <td>HJ637148</td>\n",
       "      <td>2003-09-18 05:10:00+00:00</td>\n",
       "      <td>105XX S MICHIGAN AVE</td>\n",
       "      <td>0263</td>\n",
       "      <td>CRIM SEXUAL ASSAULT</td>\n",
       "      <td>AGGRAVATED: KNIFE/CUT INSTR</td>\n",
       "      <td>ALLEY</td>\n",
       "      <td>False</td>\n",
       "      <td>False</td>\n",
       "      <td>...</td>\n",
       "      <td>9</td>\n",
       "      <td>49</td>\n",
       "      <td>02</td>\n",
       "      <td>1178841.0</td>\n",
       "      <td>1834965.0</td>\n",
       "      <td>2003</td>\n",
       "      <td>2018-02-28 03:56:25+00:00</td>\n",
       "      <td>41.702438</td>\n",
       "      <td>-87.620745</td>\n",
       "      <td>(41.702437727, -87.620744722)</td>\n",
       "    </tr>\n",
       "    <tr>\n",
       "      <th>3</th>\n",
       "      <td>4578820</td>\n",
       "      <td>HM165964</td>\n",
       "      <td>2006-02-04 02:30:00+00:00</td>\n",
       "      <td>001XX W 107TH ST</td>\n",
       "      <td>0265</td>\n",
       "      <td>CRIM SEXUAL ASSAULT</td>\n",
       "      <td>AGGRAVATED: OTHER</td>\n",
       "      <td>RESIDENCE</td>\n",
       "      <td>True</td>\n",
       "      <td>False</td>\n",
       "      <td>...</td>\n",
       "      <td>34</td>\n",
       "      <td>49</td>\n",
       "      <td>02</td>\n",
       "      <td>1177377.0</td>\n",
       "      <td>1834005.0</td>\n",
       "      <td>2006</td>\n",
       "      <td>2018-02-10 03:50:01+00:00</td>\n",
       "      <td>41.699836</td>\n",
       "      <td>-87.626134</td>\n",
       "      <td>(41.699836467, -87.626134333)</td>\n",
       "    </tr>\n",
       "    <tr>\n",
       "      <th>4</th>\n",
       "      <td>2670116</td>\n",
       "      <td>HJ285630</td>\n",
       "      <td>2003-04-04 05:54:00+00:00</td>\n",
       "      <td>009XX E 104TH ST</td>\n",
       "      <td>0266</td>\n",
       "      <td>CRIM SEXUAL ASSAULT</td>\n",
       "      <td>PREDATORY</td>\n",
       "      <td>RESIDENCE</td>\n",
       "      <td>True</td>\n",
       "      <td>False</td>\n",
       "      <td>...</td>\n",
       "      <td>9</td>\n",
       "      <td>50</td>\n",
       "      <td>02</td>\n",
       "      <td>1184238.0</td>\n",
       "      <td>1836191.0</td>\n",
       "      <td>2003</td>\n",
       "      <td>2018-02-28 03:56:25+00:00</td>\n",
       "      <td>41.705678</td>\n",
       "      <td>-87.600944</td>\n",
       "      <td>(41.705677782, -87.600944364)</td>\n",
       "    </tr>\n",
       "  </tbody>\n",
       "</table>\n",
       "<p>5 rows × 22 columns</p>\n",
       "</div>"
      ],
      "text/plain": [
       "   unique_key case_number                      date                 block  \\\n",
       "0       21081    HW448778 2013-09-12 02:59:00+00:00      001XX W 104TH PL   \n",
       "1       21682    HX539782 2014-12-12 04:57:00+00:00      104XX S STATE ST   \n",
       "2     2950376    HJ637148 2003-09-18 05:10:00+00:00  105XX S MICHIGAN AVE   \n",
       "3     4578820    HM165964 2006-02-04 02:30:00+00:00      001XX W 107TH ST   \n",
       "4     2670116    HJ285630 2003-04-04 05:54:00+00:00      009XX E 104TH ST   \n",
       "\n",
       "   iucr         primary_type                  description  \\\n",
       "0  0110             HOMICIDE          FIRST DEGREE MURDER   \n",
       "1  0110             HOMICIDE          FIRST DEGREE MURDER   \n",
       "2  0263  CRIM SEXUAL ASSAULT  AGGRAVATED: KNIFE/CUT INSTR   \n",
       "3  0265  CRIM SEXUAL ASSAULT            AGGRAVATED: OTHER   \n",
       "4  0266  CRIM SEXUAL ASSAULT                    PREDATORY   \n",
       "\n",
       "  location_description  arrest  domestic  ...  ward  community_area  fbi_code  \\\n",
       "0               STREET    True     False  ...    34              49       01A   \n",
       "1               STREET   False     False  ...    34              49       01A   \n",
       "2                ALLEY   False     False  ...     9              49        02   \n",
       "3            RESIDENCE    True     False  ...    34              49        02   \n",
       "4            RESIDENCE    True     False  ...     9              50        02   \n",
       "\n",
       "   x_coordinate y_coordinate  year                updated_on   latitude  \\\n",
       "0     1177286.0    1835665.0  2013 2022-09-18 04:45:51+00:00  41.704394   \n",
       "1     1178101.0    1835578.0  2014 2022-08-31 04:51:30+00:00  41.704137   \n",
       "2     1178841.0    1834965.0  2003 2018-02-28 03:56:25+00:00  41.702438   \n",
       "3     1177377.0    1834005.0  2006 2018-02-10 03:50:01+00:00  41.699836   \n",
       "4     1184238.0    1836191.0  2003 2018-02-28 03:56:25+00:00  41.705678   \n",
       "\n",
       "   longitude                       location  \n",
       "0 -87.626418  (41.704393792, -87.626417643)  \n",
       "1 -87.623436  (41.704136655, -87.623435884)  \n",
       "2 -87.620745  (41.702437727, -87.620744722)  \n",
       "3 -87.626134  (41.699836467, -87.626134333)  \n",
       "4 -87.600944  (41.705677782, -87.600944364)  \n",
       "\n",
       "[5 rows x 22 columns]"
      ]
     },
     "execution_count": 13,
     "metadata": {},
     "output_type": "execute_result"
    }
   ],
   "source": [
    "# Preview the first five lines of the \"full\" table\n",
    "client.list_rows(table, max_results=5).to_dataframe()"
   ]
  },
  {
   "cell_type": "markdown",
   "id": "d8881e65",
   "metadata": {
    "papermill": {
     "duration": 0.011336,
     "end_time": "2023-07-30T22:58:59.205609",
     "exception": false,
     "start_time": "2023-07-30T22:58:59.194273",
     "status": "completed"
    },
    "tags": []
   },
   "source": [
    "# Keep going\n",
    "\n",
    "You've looked at the schema, but you haven't yet done anything exciting with the data itself. Things get more interesting when you get to the data, so keep going to **[write your first SQL query](https://www.kaggle.com/dansbecker/select-from-where).**"
   ]
  },
  {
   "cell_type": "markdown",
   "id": "3b85597f",
   "metadata": {
    "papermill": {
     "duration": 0.011404,
     "end_time": "2023-07-30T22:58:59.228613",
     "exception": false,
     "start_time": "2023-07-30T22:58:59.217209",
     "status": "completed"
    },
    "tags": []
   },
   "source": [
    "---\n",
    "\n",
    "\n",
    "\n",
    "\n",
    "*Have questions or comments? Visit the [course discussion forum](https://www.kaggle.com/learn/intro-to-sql/discussion) to chat with other learners.*"
   ]
  }
 ],
 "metadata": {
  "kernelspec": {
   "display_name": "Python 3",
   "language": "python",
   "name": "python3"
  },
  "language_info": {
   "codemirror_mode": {
    "name": "ipython",
    "version": 3
   },
   "file_extension": ".py",
   "mimetype": "text/x-python",
   "name": "python",
   "nbconvert_exporter": "python",
   "pygments_lexer": "ipython3",
   "version": "3.10.12"
  },
  "papermill": {
   "default_parameters": {},
   "duration": 16.858452,
   "end_time": "2023-07-30T22:59:00.365141",
   "environment_variables": {},
   "exception": null,
   "input_path": "__notebook__.ipynb",
   "output_path": "__notebook__.ipynb",
   "parameters": {},
   "start_time": "2023-07-30T22:58:43.506689",
   "version": "2.4.0"
  }
 },
 "nbformat": 4,
 "nbformat_minor": 5
}
